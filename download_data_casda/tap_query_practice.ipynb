{
 "cells": [
  {
   "cell_type": "markdown",
   "id": "309b3852-fe6a-44fc-95f2-190bd45a7165",
   "metadata": {},
   "source": [
    "Start date: 08/10/24\n",
    "Links from Dave: \n",
    "- https://astroquery.readthedocs.io/en/latest/casda/casda.html"
   ]
  },
  {
   "cell_type": "code",
   "execution_count": 1,
   "id": "49ef92e0",
   "metadata": {},
   "outputs": [],
   "source": [
    "from astroquery.casda import Casda\n",
    "from astropy.coordinates import SkyCoord\n",
    "from astropy import units as u"
   ]
  },
  {
   "cell_type": "code",
   "execution_count": 12,
   "id": "85fc1a95",
   "metadata": {},
   "outputs": [
    {
     "name": "stdout",
     "output_type": "stream",
     "text": [
      " obs_publisher_did          s_ra        ...     obs_release_date    \n",
      "                            deg         ...                         \n",
      "------------------- ------------------- ... ------------------------\n",
      "          cube-1170     333.70448386919 ... 2023-09-01T04:16:51.758Z\n",
      "scan-457266-3328493  -26.57452738330125 ... 2024-06-17T07:08:26.494Z\n",
      "scan-443110-3314337 -25.864575379354648 ... 2024-06-05T01:12:23.084Z\n",
      "scan-501430-3372657 -25.864575379354648 ... 2024-07-24T01:01:21.345Z\n",
      " scan-386843-575274 -25.864575379354648 ... 2024-05-06T06:40:57.944Z\n",
      "scan-550962-3422189 -25.864575379354648 ... 2024-09-26T03:22:12.727Z\n",
      "scan-444262-3315489 -25.864575379354648 ... 2024-06-10T06:49:17.005Z\n",
      "scan-457273-3328500 -25.929949863779076 ... 2024-06-17T07:08:26.494Z\n",
      "scan-457267-3328494 -25.276376906873345 ... 2024-06-17T07:08:26.494Z\n",
      "                ...                 ... ...                      ...\n",
      "         cube-24177     341.55322821982 ... 2020-12-04T01:01:29.989Z\n",
      "         cube-24178     341.55322821982 ... 2020-12-04T01:01:29.989Z\n",
      "         cube-24179     341.55322821982 ... 2020-12-04T01:01:29.989Z\n",
      "         cube-24180     341.55322821982 ... 2020-12-04T01:01:29.989Z\n",
      "         cube-71010      341.5532283333 ... 2021-12-03T02:48:14.613Z\n",
      "         cube-71433      341.5532283333 ... 2021-12-03T02:48:14.613Z\n",
      "           cube-650     326.04487794126 ... 2018-05-25T08:22:51.025Z\n",
      "         cube-39376     319.61500678121 ... 2022-08-18T04:02:29.778Z\n",
      "         cube-39375     319.61500678121 ... 2022-08-18T04:02:29.778Z\n",
      "         cube-39374     319.61500678121 ... 2022-08-18T04:02:29.778Z\n",
      "Length = 3290 rows\n"
     ]
    }
   ],
   "source": [
    "centre = SkyCoord.from_name('NGC 7232')\n",
    "result_table = Casda.query_region(centre, radius=30*u.arcmin)\n",
    "print(result_table['obs_publisher_did','s_ra', 's_dec', 'obs_release_date']) "
   ]
  },
  {
   "cell_type": "code",
   "execution_count": null,
   "id": "db605d79-8ac6-4f74-8c61-674380ffb07b",
   "metadata": {},
   "outputs": [],
   "source": []
  },
  {
   "cell_type": "code",
   "execution_count": 28,
   "id": "5d8b7971-b11e-4271-8541-5d5735930929",
   "metadata": {},
   "outputs": [
    {
     "name": "stdout",
     "output_type": "stream",
     "text": [
      " obs_publisher_did          s_ra        ...     obs_release_date    \n",
      "                            deg         ...                         \n",
      "------------------- ------------------- ... ------------------------\n",
      "          cube-1170     333.70448386919 ... 2023-09-01T04:16:51.758Z\n",
      "scan-457266-3328493  -26.57452738330125 ... 2024-06-17T07:08:26.494Z\n",
      "scan-443110-3314337 -25.864575379354648 ... 2024-06-05T01:12:23.084Z\n",
      "scan-501430-3372657 -25.864575379354648 ... 2024-07-24T01:01:21.345Z\n",
      " scan-386843-575274 -25.864575379354648 ... 2024-05-06T06:40:57.944Z\n"
     ]
    }
   ],
   "source": [
    "public_results = Casda.filter_out_unreleased(result_table)\n",
    "print(public_results['obs_publisher_did','s_ra', 's_dec', 'obs_release_date'][:5])  "
   ]
  },
  {
   "cell_type": "code",
   "execution_count": null,
   "id": "165c71c2-96a4-43b5-8a7e-bfbe10f6d2b7",
   "metadata": {},
   "outputs": [],
   "source": []
  },
  {
   "cell_type": "code",
   "execution_count": null,
   "id": "a2e6e936-4260-4541-b0ee-c4bed6fac46e",
   "metadata": {},
   "outputs": [],
   "source": []
  },
  {
   "cell_type": "code",
   "execution_count": 25,
   "id": "3bb3c24a-fa26-4fe8-931f-cbafbe78fdc8",
   "metadata": {},
   "outputs": [
    {
     "name": "stderr",
     "output_type": "stream",
     "text": [
      "WARNING: No password was found in the keychain for the provided username. [astroquery.query]\n",
      "WARNING: You may be using an ipython notebook: the password form will appear in your terminal. [astroquery.query]\n"
     ]
    },
    {
     "name": "stdin",
     "output_type": "stream",
     "text": [
      "gayatri.aniruddha@uwa.edu.au, enter your password:\n",
      " ········\n"
     ]
    },
    {
     "name": "stdout",
     "output_type": "stream",
     "text": [
      "INFO: Authenticating gayatri.aniruddha@uwa.edu.au on CASDA ... [astroquery.casda.core]\n",
      "INFO: Authentication successful! [astroquery.casda.core]\n"
     ]
    }
   ],
   "source": [
    "from astroquery.casda import Casda\n",
    "casda = Casda()\n",
    "casda.login(username='gayatri.aniruddha@uwa.edu.au')"
   ]
  },
  {
   "cell_type": "code",
   "execution_count": null,
   "id": "bce4493f-1f1a-4c35-bad9-dfa495452d1a",
   "metadata": {},
   "outputs": [],
   "source": []
  },
  {
   "cell_type": "code",
   "execution_count": 37,
   "id": "35c253fa-29b3-4672-bf7f-d955c6dfad0e",
   "metadata": {},
   "outputs": [
    {
     "name": "stdout",
     "output_type": "stream",
     "text": [
      "INFO: Authenticating gayatri.aniruddha@uwa.edu.au on CASDA ... [astroquery.casda.core]\n",
      "INFO: Authentication successful! [astroquery.casda.core]\n"
     ]
    }
   ],
   "source": [
    "from astroquery.casda import Casda\n",
    "casda = Casda()\n",
    "casda.login(username='gayatri.aniruddha@uwa.edu.au',store_password=True)"
   ]
  },
  {
   "cell_type": "code",
   "execution_count": null,
   "id": "20d7000d-e8c7-41e5-8d16-79deaaa112a3",
   "metadata": {},
   "outputs": [],
   "source": []
  },
  {
   "cell_type": "code",
   "execution_count": null,
   "id": "fe857bb7-eef4-4c36-9ef7-8757b852f122",
   "metadata": {},
   "outputs": [],
   "source": []
  },
  {
   "cell_type": "code",
   "execution_count": null,
   "id": "82fb409f-0499-413c-8ffa-4ce4a6306a25",
   "metadata": {},
   "outputs": [],
   "source": []
  },
  {
   "cell_type": "code",
   "execution_count": null,
   "id": "08cf7d98-ecf4-4065-b6b0-a1a464c72a61",
   "metadata": {},
   "outputs": [],
   "source": []
  },
  {
   "cell_type": "code",
   "execution_count": null,
   "id": "87e19406-9cce-45cf-8950-dd4616c7c565",
   "metadata": {},
   "outputs": [],
   "source": []
  },
  {
   "cell_type": "code",
   "execution_count": null,
   "id": "db328b12-5c11-4034-82e4-24054ee34d94",
   "metadata": {},
   "outputs": [],
   "source": []
  }
 ],
 "metadata": {
  "kernelspec": {
   "display_name": "Python 3 (ipykernel)",
   "language": "python",
   "name": "python3"
  },
  "language_info": {
   "codemirror_mode": {
    "name": "ipython",
    "version": 3
   },
   "file_extension": ".py",
   "mimetype": "text/x-python",
   "name": "python",
   "nbconvert_exporter": "python",
   "pygments_lexer": "ipython3",
   "version": "3.12.3"
  }
 },
 "nbformat": 4,
 "nbformat_minor": 5
}
